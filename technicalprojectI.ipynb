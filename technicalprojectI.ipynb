{
  "nbformat": 4,
  "nbformat_minor": 0,
  "metadata": {
    "colab": {
      "provenance": [],
      "authorship_tag": "ABX9TyMJkkwkOYZesv0gKl8x3AKP",
      "include_colab_link": true
    },
    "kernelspec": {
      "name": "python3",
      "display_name": "Python 3"
    },
    "language_info": {
      "name": "python"
    }
  },
  "cells": [
    {
      "cell_type": "markdown",
      "metadata": {
        "id": "view-in-github",
        "colab_type": "text"
      },
      "source": [
        "<a href=\"https://colab.research.google.com/github/Madhumita1110/PySpark_ELT_pipeline/blob/main/technicalprojectI.ipynb\" target=\"_parent\"><img src=\"https://colab.research.google.com/assets/colab-badge.svg\" alt=\"Open In Colab\"/></a>"
      ]
    },
    {
      "cell_type": "markdown",
      "source": [
        "**TECHNICAL PROJECT **\n",
        "\n",
        "\"Higher Education Student Performance Evaluation\" \n",
        "\n",
        "--using Supervised Classification Machine Learning Techniques- Decision Trees, Random Forests and Categorical Naive Bayes.\n",
        "\n",
        " (*Madhumita Srivastava,\n",
        "L00171338* )"
      ],
      "metadata": {
        "id": "heVWwTUULfH5"
      }
    },
    {
      "cell_type": "code",
      "execution_count": null,
      "metadata": {
        "id": "yEz8VlcPQHTF"
      },
      "outputs": [],
      "source": [
        "import numpy as np\n",
        "import pandas as pd\n",
        "import requests\n",
        "from sklearn import tree\n",
        "import matplotlib\n",
        "from matplotlib import pyplot as plt\n",
        "import io\n",
        "\n",
        "\n",
        "url = \"https://archive.ics.uci.edu/ml/machine-learning-databases/00623/DATA.csv\"\n",
        "df = pd.read_csv(url, sep=\";\")\n"
      ]
    },
    {
      "cell_type": "code",
      "source": [
        "df.head()"
      ],
      "metadata": {
        "colab": {
          "base_uri": "https://localhost:8080/",
          "height": 236
        },
        "id": "yhrAiYuZRtzO",
        "outputId": "1dfab448-5de2-4fdc-87fa-9c1cbc2a36f1"
      },
      "execution_count": null,
      "outputs": [
        {
          "output_type": "execute_result",
          "data": {
            "text/plain": [
              "  STUDENT ID  1  2  3  4  5  6  7  8  9  ...  23  24  25  26  27  28  29  30  \\\n",
              "0   STUDENT1  2  2  3  3  1  2  2  1  1  ...   1   1   3   2   1   2   1   1   \n",
              "1   STUDENT2  2  2  3  3  1  2  2  1  1  ...   1   1   3   2   3   2   2   3   \n",
              "2   STUDENT3  2  2  2  3  2  2  2  2  4  ...   1   1   2   2   1   1   2   2   \n",
              "3   STUDENT4  1  1  1  3  1  2  1  2  1  ...   1   2   3   2   2   1   3   2   \n",
              "4   STUDENT5  2  2  1  3  2  2  1  3  1  ...   2   1   2   2   2   1   2   2   \n",
              "\n",
              "   COURSE ID  GRADE  \n",
              "0          1      1  \n",
              "1          1      1  \n",
              "2          1      1  \n",
              "3          1      1  \n",
              "4          1      1  \n",
              "\n",
              "[5 rows x 33 columns]"
            ],
            "text/html": [
              "\n",
              "  <div id=\"df-92d7129e-5825-4131-848d-bf254cf3a62a\">\n",
              "    <div class=\"colab-df-container\">\n",
              "      <div>\n",
              "<style scoped>\n",
              "    .dataframe tbody tr th:only-of-type {\n",
              "        vertical-align: middle;\n",
              "    }\n",
              "\n",
              "    .dataframe tbody tr th {\n",
              "        vertical-align: top;\n",
              "    }\n",
              "\n",
              "    .dataframe thead th {\n",
              "        text-align: right;\n",
              "    }\n",
              "</style>\n",
              "<table border=\"1\" class=\"dataframe\">\n",
              "  <thead>\n",
              "    <tr style=\"text-align: right;\">\n",
              "      <th></th>\n",
              "      <th>STUDENT ID</th>\n",
              "      <th>1</th>\n",
              "      <th>2</th>\n",
              "      <th>3</th>\n",
              "      <th>4</th>\n",
              "      <th>5</th>\n",
              "      <th>6</th>\n",
              "      <th>7</th>\n",
              "      <th>8</th>\n",
              "      <th>9</th>\n",
              "      <th>...</th>\n",
              "      <th>23</th>\n",
              "      <th>24</th>\n",
              "      <th>25</th>\n",
              "      <th>26</th>\n",
              "      <th>27</th>\n",
              "      <th>28</th>\n",
              "      <th>29</th>\n",
              "      <th>30</th>\n",
              "      <th>COURSE ID</th>\n",
              "      <th>GRADE</th>\n",
              "    </tr>\n",
              "  </thead>\n",
              "  <tbody>\n",
              "    <tr>\n",
              "      <th>0</th>\n",
              "      <td>STUDENT1</td>\n",
              "      <td>2</td>\n",
              "      <td>2</td>\n",
              "      <td>3</td>\n",
              "      <td>3</td>\n",
              "      <td>1</td>\n",
              "      <td>2</td>\n",
              "      <td>2</td>\n",
              "      <td>1</td>\n",
              "      <td>1</td>\n",
              "      <td>...</td>\n",
              "      <td>1</td>\n",
              "      <td>1</td>\n",
              "      <td>3</td>\n",
              "      <td>2</td>\n",
              "      <td>1</td>\n",
              "      <td>2</td>\n",
              "      <td>1</td>\n",
              "      <td>1</td>\n",
              "      <td>1</td>\n",
              "      <td>1</td>\n",
              "    </tr>\n",
              "    <tr>\n",
              "      <th>1</th>\n",
              "      <td>STUDENT2</td>\n",
              "      <td>2</td>\n",
              "      <td>2</td>\n",
              "      <td>3</td>\n",
              "      <td>3</td>\n",
              "      <td>1</td>\n",
              "      <td>2</td>\n",
              "      <td>2</td>\n",
              "      <td>1</td>\n",
              "      <td>1</td>\n",
              "      <td>...</td>\n",
              "      <td>1</td>\n",
              "      <td>1</td>\n",
              "      <td>3</td>\n",
              "      <td>2</td>\n",
              "      <td>3</td>\n",
              "      <td>2</td>\n",
              "      <td>2</td>\n",
              "      <td>3</td>\n",
              "      <td>1</td>\n",
              "      <td>1</td>\n",
              "    </tr>\n",
              "    <tr>\n",
              "      <th>2</th>\n",
              "      <td>STUDENT3</td>\n",
              "      <td>2</td>\n",
              "      <td>2</td>\n",
              "      <td>2</td>\n",
              "      <td>3</td>\n",
              "      <td>2</td>\n",
              "      <td>2</td>\n",
              "      <td>2</td>\n",
              "      <td>2</td>\n",
              "      <td>4</td>\n",
              "      <td>...</td>\n",
              "      <td>1</td>\n",
              "      <td>1</td>\n",
              "      <td>2</td>\n",
              "      <td>2</td>\n",
              "      <td>1</td>\n",
              "      <td>1</td>\n",
              "      <td>2</td>\n",
              "      <td>2</td>\n",
              "      <td>1</td>\n",
              "      <td>1</td>\n",
              "    </tr>\n",
              "    <tr>\n",
              "      <th>3</th>\n",
              "      <td>STUDENT4</td>\n",
              "      <td>1</td>\n",
              "      <td>1</td>\n",
              "      <td>1</td>\n",
              "      <td>3</td>\n",
              "      <td>1</td>\n",
              "      <td>2</td>\n",
              "      <td>1</td>\n",
              "      <td>2</td>\n",
              "      <td>1</td>\n",
              "      <td>...</td>\n",
              "      <td>1</td>\n",
              "      <td>2</td>\n",
              "      <td>3</td>\n",
              "      <td>2</td>\n",
              "      <td>2</td>\n",
              "      <td>1</td>\n",
              "      <td>3</td>\n",
              "      <td>2</td>\n",
              "      <td>1</td>\n",
              "      <td>1</td>\n",
              "    </tr>\n",
              "    <tr>\n",
              "      <th>4</th>\n",
              "      <td>STUDENT5</td>\n",
              "      <td>2</td>\n",
              "      <td>2</td>\n",
              "      <td>1</td>\n",
              "      <td>3</td>\n",
              "      <td>2</td>\n",
              "      <td>2</td>\n",
              "      <td>1</td>\n",
              "      <td>3</td>\n",
              "      <td>1</td>\n",
              "      <td>...</td>\n",
              "      <td>2</td>\n",
              "      <td>1</td>\n",
              "      <td>2</td>\n",
              "      <td>2</td>\n",
              "      <td>2</td>\n",
              "      <td>1</td>\n",
              "      <td>2</td>\n",
              "      <td>2</td>\n",
              "      <td>1</td>\n",
              "      <td>1</td>\n",
              "    </tr>\n",
              "  </tbody>\n",
              "</table>\n",
              "<p>5 rows × 33 columns</p>\n",
              "</div>\n",
              "      <button class=\"colab-df-convert\" onclick=\"convertToInteractive('df-92d7129e-5825-4131-848d-bf254cf3a62a')\"\n",
              "              title=\"Convert this dataframe to an interactive table.\"\n",
              "              style=\"display:none;\">\n",
              "        \n",
              "  <svg xmlns=\"http://www.w3.org/2000/svg\" height=\"24px\"viewBox=\"0 0 24 24\"\n",
              "       width=\"24px\">\n",
              "    <path d=\"M0 0h24v24H0V0z\" fill=\"none\"/>\n",
              "    <path d=\"M18.56 5.44l.94 2.06.94-2.06 2.06-.94-2.06-.94-.94-2.06-.94 2.06-2.06.94zm-11 1L8.5 8.5l.94-2.06 2.06-.94-2.06-.94L8.5 2.5l-.94 2.06-2.06.94zm10 10l.94 2.06.94-2.06 2.06-.94-2.06-.94-.94-2.06-.94 2.06-2.06.94z\"/><path d=\"M17.41 7.96l-1.37-1.37c-.4-.4-.92-.59-1.43-.59-.52 0-1.04.2-1.43.59L10.3 9.45l-7.72 7.72c-.78.78-.78 2.05 0 2.83L4 21.41c.39.39.9.59 1.41.59.51 0 1.02-.2 1.41-.59l7.78-7.78 2.81-2.81c.8-.78.8-2.07 0-2.86zM5.41 20L4 18.59l7.72-7.72 1.47 1.35L5.41 20z\"/>\n",
              "  </svg>\n",
              "      </button>\n",
              "      \n",
              "  <style>\n",
              "    .colab-df-container {\n",
              "      display:flex;\n",
              "      flex-wrap:wrap;\n",
              "      gap: 12px;\n",
              "    }\n",
              "\n",
              "    .colab-df-convert {\n",
              "      background-color: #E8F0FE;\n",
              "      border: none;\n",
              "      border-radius: 50%;\n",
              "      cursor: pointer;\n",
              "      display: none;\n",
              "      fill: #1967D2;\n",
              "      height: 32px;\n",
              "      padding: 0 0 0 0;\n",
              "      width: 32px;\n",
              "    }\n",
              "\n",
              "    .colab-df-convert:hover {\n",
              "      background-color: #E2EBFA;\n",
              "      box-shadow: 0px 1px 2px rgba(60, 64, 67, 0.3), 0px 1px 3px 1px rgba(60, 64, 67, 0.15);\n",
              "      fill: #174EA6;\n",
              "    }\n",
              "\n",
              "    [theme=dark] .colab-df-convert {\n",
              "      background-color: #3B4455;\n",
              "      fill: #D2E3FC;\n",
              "    }\n",
              "\n",
              "    [theme=dark] .colab-df-convert:hover {\n",
              "      background-color: #434B5C;\n",
              "      box-shadow: 0px 1px 3px 1px rgba(0, 0, 0, 0.15);\n",
              "      filter: drop-shadow(0px 1px 2px rgba(0, 0, 0, 0.3));\n",
              "      fill: #FFFFFF;\n",
              "    }\n",
              "  </style>\n",
              "\n",
              "      <script>\n",
              "        const buttonEl =\n",
              "          document.querySelector('#df-92d7129e-5825-4131-848d-bf254cf3a62a button.colab-df-convert');\n",
              "        buttonEl.style.display =\n",
              "          google.colab.kernel.accessAllowed ? 'block' : 'none';\n",
              "\n",
              "        async function convertToInteractive(key) {\n",
              "          const element = document.querySelector('#df-92d7129e-5825-4131-848d-bf254cf3a62a');\n",
              "          const dataTable =\n",
              "            await google.colab.kernel.invokeFunction('convertToInteractive',\n",
              "                                                     [key], {});\n",
              "          if (!dataTable) return;\n",
              "\n",
              "          const docLinkHtml = 'Like what you see? Visit the ' +\n",
              "            '<a target=\"_blank\" href=https://colab.research.google.com/notebooks/data_table.ipynb>data table notebook</a>'\n",
              "            + ' to learn more about interactive tables.';\n",
              "          element.innerHTML = '';\n",
              "          dataTable['output_type'] = 'display_data';\n",
              "          await google.colab.output.renderOutput(dataTable, element);\n",
              "          const docLink = document.createElement('div');\n",
              "          docLink.innerHTML = docLinkHtml;\n",
              "          element.appendChild(docLink);\n",
              "        }\n",
              "      </script>\n",
              "    </div>\n",
              "  </div>\n",
              "  "
            ]
          },
          "metadata": {},
          "execution_count": 2
        }
      ]
    },
    {
      "cell_type": "code",
      "source": [
        "#renaming column names for visual convenience and better clarity of the data\n",
        "df.rename(columns = {'1':'Age', \n",
        "                      '2':'Gender',\n",
        "                     '3':'High school Type',\n",
        "                     '4':'Scholarship',\n",
        "                     '5':'Additional work',\n",
        "                     '6':'Regular artistic or sports activity',\n",
        "                     '7':'Have Partner',\n",
        "                     '8':'Salary','9':'Transportation to the university',\n",
        "                     '10':'Accommodation type',\n",
        "                     '11':'Mothers education',\n",
        "                     '12':'Father education',\n",
        "                     '13':'No. of siblings',\n",
        "                     '14':'Parental status',\n",
        "                     '15':'Mother occupation',\n",
        "                     '16':'Father occupation',\n",
        "                     '17':'Weekly study hours',\n",
        "                     '18':'Reading Non-scientific books/journals',\n",
        "                     '19':'Reading Scientific books/journals',\n",
        "                     '20':'Attendance to the seminars/conferences',\n",
        "                     '21':'Impact of projects/activities on success',\n",
        "                     '22':'Attendance to classes',\n",
        "                     '23':'Preparation to midterm exams with friends/alone/NA',\n",
        "                     '24':'Preparation to midterm exams regularly, near exam date or never',\n",
        "                     '25':'Taking notes in classes',\n",
        "                     '26':'Listening in classes',\n",
        "                     '27':'Discussion improves interest and success in the course',\n",
        "                     '28':'Flip classroom',\n",
        "                     '29':'CGPA in last semester',\n",
        "                     '30':'Expected CGPA in graduation'\n",
        "                  }, \n",
        "            inplace = True)\n",
        "df.head()"
      ],
      "metadata": {
        "colab": {
          "base_uri": "https://localhost:8080/",
          "height": 404
        },
        "id": "uRnhcqkeTqNf",
        "outputId": "759f2f3c-7cf6-458d-d017-75844ded5cca"
      },
      "execution_count": null,
      "outputs": [
        {
          "output_type": "execute_result",
          "data": {
            "text/plain": [
              "  STUDENT ID  Age  Gender  High school Type  Scholarship  Additional work  \\\n",
              "0   STUDENT1    2       2                 3            3                1   \n",
              "1   STUDENT2    2       2                 3            3                1   \n",
              "2   STUDENT3    2       2                 2            3                2   \n",
              "3   STUDENT4    1       1                 1            3                1   \n",
              "4   STUDENT5    2       2                 1            3                2   \n",
              "\n",
              "   Regular artistic or sports activity  Have Partner  Salary  \\\n",
              "0                                    2             2       1   \n",
              "1                                    2             2       1   \n",
              "2                                    2             2       2   \n",
              "3                                    2             1       2   \n",
              "4                                    2             1       3   \n",
              "\n",
              "   Transportation to the university  ...  \\\n",
              "0                                 1  ...   \n",
              "1                                 1  ...   \n",
              "2                                 4  ...   \n",
              "3                                 1  ...   \n",
              "4                                 1  ...   \n",
              "\n",
              "   Preparation to midterm exams with friends/alone/NA  \\\n",
              "0                                                  1    \n",
              "1                                                  1    \n",
              "2                                                  1    \n",
              "3                                                  1    \n",
              "4                                                  2    \n",
              "\n",
              "   Preparation to midterm exams regularly, near exam date or never  \\\n",
              "0                                                  1                 \n",
              "1                                                  1                 \n",
              "2                                                  1                 \n",
              "3                                                  2                 \n",
              "4                                                  1                 \n",
              "\n",
              "   Taking notes in classes  Listening in classes  \\\n",
              "0                        3                     2   \n",
              "1                        3                     2   \n",
              "2                        2                     2   \n",
              "3                        3                     2   \n",
              "4                        2                     2   \n",
              "\n",
              "   Discussion improves interest and success in the course  Flip classroom  \\\n",
              "0                                                  1                    2   \n",
              "1                                                  3                    2   \n",
              "2                                                  1                    1   \n",
              "3                                                  2                    1   \n",
              "4                                                  2                    1   \n",
              "\n",
              "   CGPA in last semester  Expected CGPA in graduation  COURSE ID  GRADE  \n",
              "0                      1                            1          1      1  \n",
              "1                      2                            3          1      1  \n",
              "2                      2                            2          1      1  \n",
              "3                      3                            2          1      1  \n",
              "4                      2                            2          1      1  \n",
              "\n",
              "[5 rows x 33 columns]"
            ],
            "text/html": [
              "\n",
              "  <div id=\"df-6a4923cf-dc9a-4917-ad43-42048b96ff66\">\n",
              "    <div class=\"colab-df-container\">\n",
              "      <div>\n",
              "<style scoped>\n",
              "    .dataframe tbody tr th:only-of-type {\n",
              "        vertical-align: middle;\n",
              "    }\n",
              "\n",
              "    .dataframe tbody tr th {\n",
              "        vertical-align: top;\n",
              "    }\n",
              "\n",
              "    .dataframe thead th {\n",
              "        text-align: right;\n",
              "    }\n",
              "</style>\n",
              "<table border=\"1\" class=\"dataframe\">\n",
              "  <thead>\n",
              "    <tr style=\"text-align: right;\">\n",
              "      <th></th>\n",
              "      <th>STUDENT ID</th>\n",
              "      <th>Age</th>\n",
              "      <th>Gender</th>\n",
              "      <th>High school Type</th>\n",
              "      <th>Scholarship</th>\n",
              "      <th>Additional work</th>\n",
              "      <th>Regular artistic or sports activity</th>\n",
              "      <th>Have Partner</th>\n",
              "      <th>Salary</th>\n",
              "      <th>Transportation to the university</th>\n",
              "      <th>...</th>\n",
              "      <th>Preparation to midterm exams with friends/alone/NA</th>\n",
              "      <th>Preparation to midterm exams regularly, near exam date or never</th>\n",
              "      <th>Taking notes in classes</th>\n",
              "      <th>Listening in classes</th>\n",
              "      <th>Discussion improves interest and success in the course</th>\n",
              "      <th>Flip classroom</th>\n",
              "      <th>CGPA in last semester</th>\n",
              "      <th>Expected CGPA in graduation</th>\n",
              "      <th>COURSE ID</th>\n",
              "      <th>GRADE</th>\n",
              "    </tr>\n",
              "  </thead>\n",
              "  <tbody>\n",
              "    <tr>\n",
              "      <th>0</th>\n",
              "      <td>STUDENT1</td>\n",
              "      <td>2</td>\n",
              "      <td>2</td>\n",
              "      <td>3</td>\n",
              "      <td>3</td>\n",
              "      <td>1</td>\n",
              "      <td>2</td>\n",
              "      <td>2</td>\n",
              "      <td>1</td>\n",
              "      <td>1</td>\n",
              "      <td>...</td>\n",
              "      <td>1</td>\n",
              "      <td>1</td>\n",
              "      <td>3</td>\n",
              "      <td>2</td>\n",
              "      <td>1</td>\n",
              "      <td>2</td>\n",
              "      <td>1</td>\n",
              "      <td>1</td>\n",
              "      <td>1</td>\n",
              "      <td>1</td>\n",
              "    </tr>\n",
              "    <tr>\n",
              "      <th>1</th>\n",
              "      <td>STUDENT2</td>\n",
              "      <td>2</td>\n",
              "      <td>2</td>\n",
              "      <td>3</td>\n",
              "      <td>3</td>\n",
              "      <td>1</td>\n",
              "      <td>2</td>\n",
              "      <td>2</td>\n",
              "      <td>1</td>\n",
              "      <td>1</td>\n",
              "      <td>...</td>\n",
              "      <td>1</td>\n",
              "      <td>1</td>\n",
              "      <td>3</td>\n",
              "      <td>2</td>\n",
              "      <td>3</td>\n",
              "      <td>2</td>\n",
              "      <td>2</td>\n",
              "      <td>3</td>\n",
              "      <td>1</td>\n",
              "      <td>1</td>\n",
              "    </tr>\n",
              "    <tr>\n",
              "      <th>2</th>\n",
              "      <td>STUDENT3</td>\n",
              "      <td>2</td>\n",
              "      <td>2</td>\n",
              "      <td>2</td>\n",
              "      <td>3</td>\n",
              "      <td>2</td>\n",
              "      <td>2</td>\n",
              "      <td>2</td>\n",
              "      <td>2</td>\n",
              "      <td>4</td>\n",
              "      <td>...</td>\n",
              "      <td>1</td>\n",
              "      <td>1</td>\n",
              "      <td>2</td>\n",
              "      <td>2</td>\n",
              "      <td>1</td>\n",
              "      <td>1</td>\n",
              "      <td>2</td>\n",
              "      <td>2</td>\n",
              "      <td>1</td>\n",
              "      <td>1</td>\n",
              "    </tr>\n",
              "    <tr>\n",
              "      <th>3</th>\n",
              "      <td>STUDENT4</td>\n",
              "      <td>1</td>\n",
              "      <td>1</td>\n",
              "      <td>1</td>\n",
              "      <td>3</td>\n",
              "      <td>1</td>\n",
              "      <td>2</td>\n",
              "      <td>1</td>\n",
              "      <td>2</td>\n",
              "      <td>1</td>\n",
              "      <td>...</td>\n",
              "      <td>1</td>\n",
              "      <td>2</td>\n",
              "      <td>3</td>\n",
              "      <td>2</td>\n",
              "      <td>2</td>\n",
              "      <td>1</td>\n",
              "      <td>3</td>\n",
              "      <td>2</td>\n",
              "      <td>1</td>\n",
              "      <td>1</td>\n",
              "    </tr>\n",
              "    <tr>\n",
              "      <th>4</th>\n",
              "      <td>STUDENT5</td>\n",
              "      <td>2</td>\n",
              "      <td>2</td>\n",
              "      <td>1</td>\n",
              "      <td>3</td>\n",
              "      <td>2</td>\n",
              "      <td>2</td>\n",
              "      <td>1</td>\n",
              "      <td>3</td>\n",
              "      <td>1</td>\n",
              "      <td>...</td>\n",
              "      <td>2</td>\n",
              "      <td>1</td>\n",
              "      <td>2</td>\n",
              "      <td>2</td>\n",
              "      <td>2</td>\n",
              "      <td>1</td>\n",
              "      <td>2</td>\n",
              "      <td>2</td>\n",
              "      <td>1</td>\n",
              "      <td>1</td>\n",
              "    </tr>\n",
              "  </tbody>\n",
              "</table>\n",
              "<p>5 rows × 33 columns</p>\n",
              "</div>\n",
              "      <button class=\"colab-df-convert\" onclick=\"convertToInteractive('df-6a4923cf-dc9a-4917-ad43-42048b96ff66')\"\n",
              "              title=\"Convert this dataframe to an interactive table.\"\n",
              "              style=\"display:none;\">\n",
              "        \n",
              "  <svg xmlns=\"http://www.w3.org/2000/svg\" height=\"24px\"viewBox=\"0 0 24 24\"\n",
              "       width=\"24px\">\n",
              "    <path d=\"M0 0h24v24H0V0z\" fill=\"none\"/>\n",
              "    <path d=\"M18.56 5.44l.94 2.06.94-2.06 2.06-.94-2.06-.94-.94-2.06-.94 2.06-2.06.94zm-11 1L8.5 8.5l.94-2.06 2.06-.94-2.06-.94L8.5 2.5l-.94 2.06-2.06.94zm10 10l.94 2.06.94-2.06 2.06-.94-2.06-.94-.94-2.06-.94 2.06-2.06.94z\"/><path d=\"M17.41 7.96l-1.37-1.37c-.4-.4-.92-.59-1.43-.59-.52 0-1.04.2-1.43.59L10.3 9.45l-7.72 7.72c-.78.78-.78 2.05 0 2.83L4 21.41c.39.39.9.59 1.41.59.51 0 1.02-.2 1.41-.59l7.78-7.78 2.81-2.81c.8-.78.8-2.07 0-2.86zM5.41 20L4 18.59l7.72-7.72 1.47 1.35L5.41 20z\"/>\n",
              "  </svg>\n",
              "      </button>\n",
              "      \n",
              "  <style>\n",
              "    .colab-df-container {\n",
              "      display:flex;\n",
              "      flex-wrap:wrap;\n",
              "      gap: 12px;\n",
              "    }\n",
              "\n",
              "    .colab-df-convert {\n",
              "      background-color: #E8F0FE;\n",
              "      border: none;\n",
              "      border-radius: 50%;\n",
              "      cursor: pointer;\n",
              "      display: none;\n",
              "      fill: #1967D2;\n",
              "      height: 32px;\n",
              "      padding: 0 0 0 0;\n",
              "      width: 32px;\n",
              "    }\n",
              "\n",
              "    .colab-df-convert:hover {\n",
              "      background-color: #E2EBFA;\n",
              "      box-shadow: 0px 1px 2px rgba(60, 64, 67, 0.3), 0px 1px 3px 1px rgba(60, 64, 67, 0.15);\n",
              "      fill: #174EA6;\n",
              "    }\n",
              "\n",
              "    [theme=dark] .colab-df-convert {\n",
              "      background-color: #3B4455;\n",
              "      fill: #D2E3FC;\n",
              "    }\n",
              "\n",
              "    [theme=dark] .colab-df-convert:hover {\n",
              "      background-color: #434B5C;\n",
              "      box-shadow: 0px 1px 3px 1px rgba(0, 0, 0, 0.15);\n",
              "      filter: drop-shadow(0px 1px 2px rgba(0, 0, 0, 0.3));\n",
              "      fill: #FFFFFF;\n",
              "    }\n",
              "  </style>\n",
              "\n",
              "      <script>\n",
              "        const buttonEl =\n",
              "          document.querySelector('#df-6a4923cf-dc9a-4917-ad43-42048b96ff66 button.colab-df-convert');\n",
              "        buttonEl.style.display =\n",
              "          google.colab.kernel.accessAllowed ? 'block' : 'none';\n",
              "\n",
              "        async function convertToInteractive(key) {\n",
              "          const element = document.querySelector('#df-6a4923cf-dc9a-4917-ad43-42048b96ff66');\n",
              "          const dataTable =\n",
              "            await google.colab.kernel.invokeFunction('convertToInteractive',\n",
              "                                                     [key], {});\n",
              "          if (!dataTable) return;\n",
              "\n",
              "          const docLinkHtml = 'Like what you see? Visit the ' +\n",
              "            '<a target=\"_blank\" href=https://colab.research.google.com/notebooks/data_table.ipynb>data table notebook</a>'\n",
              "            + ' to learn more about interactive tables.';\n",
              "          element.innerHTML = '';\n",
              "          dataTable['output_type'] = 'display_data';\n",
              "          await google.colab.output.renderOutput(dataTable, element);\n",
              "          const docLink = document.createElement('div');\n",
              "          docLink.innerHTML = docLinkHtml;\n",
              "          element.appendChild(docLink);\n",
              "        }\n",
              "      </script>\n",
              "    </div>\n",
              "  </div>\n",
              "  "
            ]
          },
          "metadata": {},
          "execution_count": 3
        }
      ]
    },
    {
      "cell_type": "markdown",
      "source": [
        "**Hypothesis**- 1. What will be the end of term performances of the students?\n",
        "2. Does personal and family factors affect our prediction?"
      ],
      "metadata": {
        "id": "ro_rbtEFyK6G"
      }
    },
    {
      "cell_type": "markdown",
      "source": [
        "We will change our classification problem from 8 classifiers to 3 classfiers only since our dataset is not large enough to train 8 classifiers. We will add a new Target class and drop previous."
      ],
      "metadata": {
        "id": "SHY8-b_QPiXf"
      }
    },
    {
      "cell_type": "code",
      "source": [
        "#OUTPUT Grade (0: Fail, 1: DD, 2: DC, 3: CC, 4: CB, 5: BB, 6: BA, 7: AA)\n",
        "#define a function to replace 8 classes with 3 classes- poor, average and good\n",
        "\n",
        "def categorise(row):  \n",
        "    if row['GRADE'] >= 0 and row['GRADE'] <=2:\n",
        "        return 'POOR'\n",
        "    elif row['GRADE'] > 2 and row['GRADE'] <=5:\n",
        "        return 'AVG'\n",
        "    else:\n",
        "        return 'GOOD'\n",
        "    "
      ],
      "metadata": {
        "id": "OI9rHe1dfjZQ"
      },
      "execution_count": null,
      "outputs": []
    },
    {
      "cell_type": "code",
      "source": [
        "#define a new column which is our Target class\n",
        "\n",
        "df['TARGET'] = df.apply(lambda row: categorise(row), axis=1)\n",
        "\n",
        "df.head()"
      ],
      "metadata": {
        "colab": {
          "base_uri": "https://localhost:8080/",
          "height": 404
        },
        "id": "zZ6rO21aisov",
        "outputId": "873fd54e-a33f-4b6b-fa13-41be61599587"
      },
      "execution_count": null,
      "outputs": [
        {
          "output_type": "execute_result",
          "data": {
            "text/plain": [
              "  STUDENT ID  Age  Gender  High school Type  Scholarship  Additional work  \\\n",
              "0   STUDENT1    2       2                 3            3                1   \n",
              "1   STUDENT2    2       2                 3            3                1   \n",
              "2   STUDENT3    2       2                 2            3                2   \n",
              "3   STUDENT4    1       1                 1            3                1   \n",
              "4   STUDENT5    2       2                 1            3                2   \n",
              "\n",
              "   Regular artistic or sports activity  Have Partner  Salary  \\\n",
              "0                                    2             2       1   \n",
              "1                                    2             2       1   \n",
              "2                                    2             2       2   \n",
              "3                                    2             1       2   \n",
              "4                                    2             1       3   \n",
              "\n",
              "   Transportation to the university  ...  \\\n",
              "0                                 1  ...   \n",
              "1                                 1  ...   \n",
              "2                                 4  ...   \n",
              "3                                 1  ...   \n",
              "4                                 1  ...   \n",
              "\n",
              "   Preparation to midterm exams regularly, near exam date or never  \\\n",
              "0                                                  1                 \n",
              "1                                                  1                 \n",
              "2                                                  1                 \n",
              "3                                                  2                 \n",
              "4                                                  1                 \n",
              "\n",
              "   Taking notes in classes  Listening in classes  \\\n",
              "0                        3                     2   \n",
              "1                        3                     2   \n",
              "2                        2                     2   \n",
              "3                        3                     2   \n",
              "4                        2                     2   \n",
              "\n",
              "   Discussion improves interest and success in the course  Flip classroom  \\\n",
              "0                                                  1                    2   \n",
              "1                                                  3                    2   \n",
              "2                                                  1                    1   \n",
              "3                                                  2                    1   \n",
              "4                                                  2                    1   \n",
              "\n",
              "   CGPA in last semester  Expected CGPA in graduation  COURSE ID  GRADE  \\\n",
              "0                      1                            1          1      1   \n",
              "1                      2                            3          1      1   \n",
              "2                      2                            2          1      1   \n",
              "3                      3                            2          1      1   \n",
              "4                      2                            2          1      1   \n",
              "\n",
              "   TARGET  \n",
              "0    POOR  \n",
              "1    POOR  \n",
              "2    POOR  \n",
              "3    POOR  \n",
              "4    POOR  \n",
              "\n",
              "[5 rows x 34 columns]"
            ],
            "text/html": [
              "\n",
              "  <div id=\"df-f8cbf171-030c-46e7-b359-fb94c0b6cec5\">\n",
              "    <div class=\"colab-df-container\">\n",
              "      <div>\n",
              "<style scoped>\n",
              "    .dataframe tbody tr th:only-of-type {\n",
              "        vertical-align: middle;\n",
              "    }\n",
              "\n",
              "    .dataframe tbody tr th {\n",
              "        vertical-align: top;\n",
              "    }\n",
              "\n",
              "    .dataframe thead th {\n",
              "        text-align: right;\n",
              "    }\n",
              "</style>\n",
              "<table border=\"1\" class=\"dataframe\">\n",
              "  <thead>\n",
              "    <tr style=\"text-align: right;\">\n",
              "      <th></th>\n",
              "      <th>STUDENT ID</th>\n",
              "      <th>Age</th>\n",
              "      <th>Gender</th>\n",
              "      <th>High school Type</th>\n",
              "      <th>Scholarship</th>\n",
              "      <th>Additional work</th>\n",
              "      <th>Regular artistic or sports activity</th>\n",
              "      <th>Have Partner</th>\n",
              "      <th>Salary</th>\n",
              "      <th>Transportation to the university</th>\n",
              "      <th>...</th>\n",
              "      <th>Preparation to midterm exams regularly, near exam date or never</th>\n",
              "      <th>Taking notes in classes</th>\n",
              "      <th>Listening in classes</th>\n",
              "      <th>Discussion improves interest and success in the course</th>\n",
              "      <th>Flip classroom</th>\n",
              "      <th>CGPA in last semester</th>\n",
              "      <th>Expected CGPA in graduation</th>\n",
              "      <th>COURSE ID</th>\n",
              "      <th>GRADE</th>\n",
              "      <th>TARGET</th>\n",
              "    </tr>\n",
              "  </thead>\n",
              "  <tbody>\n",
              "    <tr>\n",
              "      <th>0</th>\n",
              "      <td>STUDENT1</td>\n",
              "      <td>2</td>\n",
              "      <td>2</td>\n",
              "      <td>3</td>\n",
              "      <td>3</td>\n",
              "      <td>1</td>\n",
              "      <td>2</td>\n",
              "      <td>2</td>\n",
              "      <td>1</td>\n",
              "      <td>1</td>\n",
              "      <td>...</td>\n",
              "      <td>1</td>\n",
              "      <td>3</td>\n",
              "      <td>2</td>\n",
              "      <td>1</td>\n",
              "      <td>2</td>\n",
              "      <td>1</td>\n",
              "      <td>1</td>\n",
              "      <td>1</td>\n",
              "      <td>1</td>\n",
              "      <td>POOR</td>\n",
              "    </tr>\n",
              "    <tr>\n",
              "      <th>1</th>\n",
              "      <td>STUDENT2</td>\n",
              "      <td>2</td>\n",
              "      <td>2</td>\n",
              "      <td>3</td>\n",
              "      <td>3</td>\n",
              "      <td>1</td>\n",
              "      <td>2</td>\n",
              "      <td>2</td>\n",
              "      <td>1</td>\n",
              "      <td>1</td>\n",
              "      <td>...</td>\n",
              "      <td>1</td>\n",
              "      <td>3</td>\n",
              "      <td>2</td>\n",
              "      <td>3</td>\n",
              "      <td>2</td>\n",
              "      <td>2</td>\n",
              "      <td>3</td>\n",
              "      <td>1</td>\n",
              "      <td>1</td>\n",
              "      <td>POOR</td>\n",
              "    </tr>\n",
              "    <tr>\n",
              "      <th>2</th>\n",
              "      <td>STUDENT3</td>\n",
              "      <td>2</td>\n",
              "      <td>2</td>\n",
              "      <td>2</td>\n",
              "      <td>3</td>\n",
              "      <td>2</td>\n",
              "      <td>2</td>\n",
              "      <td>2</td>\n",
              "      <td>2</td>\n",
              "      <td>4</td>\n",
              "      <td>...</td>\n",
              "      <td>1</td>\n",
              "      <td>2</td>\n",
              "      <td>2</td>\n",
              "      <td>1</td>\n",
              "      <td>1</td>\n",
              "      <td>2</td>\n",
              "      <td>2</td>\n",
              "      <td>1</td>\n",
              "      <td>1</td>\n",
              "      <td>POOR</td>\n",
              "    </tr>\n",
              "    <tr>\n",
              "      <th>3</th>\n",
              "      <td>STUDENT4</td>\n",
              "      <td>1</td>\n",
              "      <td>1</td>\n",
              "      <td>1</td>\n",
              "      <td>3</td>\n",
              "      <td>1</td>\n",
              "      <td>2</td>\n",
              "      <td>1</td>\n",
              "      <td>2</td>\n",
              "      <td>1</td>\n",
              "      <td>...</td>\n",
              "      <td>2</td>\n",
              "      <td>3</td>\n",
              "      <td>2</td>\n",
              "      <td>2</td>\n",
              "      <td>1</td>\n",
              "      <td>3</td>\n",
              "      <td>2</td>\n",
              "      <td>1</td>\n",
              "      <td>1</td>\n",
              "      <td>POOR</td>\n",
              "    </tr>\n",
              "    <tr>\n",
              "      <th>4</th>\n",
              "      <td>STUDENT5</td>\n",
              "      <td>2</td>\n",
              "      <td>2</td>\n",
              "      <td>1</td>\n",
              "      <td>3</td>\n",
              "      <td>2</td>\n",
              "      <td>2</td>\n",
              "      <td>1</td>\n",
              "      <td>3</td>\n",
              "      <td>1</td>\n",
              "      <td>...</td>\n",
              "      <td>1</td>\n",
              "      <td>2</td>\n",
              "      <td>2</td>\n",
              "      <td>2</td>\n",
              "      <td>1</td>\n",
              "      <td>2</td>\n",
              "      <td>2</td>\n",
              "      <td>1</td>\n",
              "      <td>1</td>\n",
              "      <td>POOR</td>\n",
              "    </tr>\n",
              "  </tbody>\n",
              "</table>\n",
              "<p>5 rows × 34 columns</p>\n",
              "</div>\n",
              "      <button class=\"colab-df-convert\" onclick=\"convertToInteractive('df-f8cbf171-030c-46e7-b359-fb94c0b6cec5')\"\n",
              "              title=\"Convert this dataframe to an interactive table.\"\n",
              "              style=\"display:none;\">\n",
              "        \n",
              "  <svg xmlns=\"http://www.w3.org/2000/svg\" height=\"24px\"viewBox=\"0 0 24 24\"\n",
              "       width=\"24px\">\n",
              "    <path d=\"M0 0h24v24H0V0z\" fill=\"none\"/>\n",
              "    <path d=\"M18.56 5.44l.94 2.06.94-2.06 2.06-.94-2.06-.94-.94-2.06-.94 2.06-2.06.94zm-11 1L8.5 8.5l.94-2.06 2.06-.94-2.06-.94L8.5 2.5l-.94 2.06-2.06.94zm10 10l.94 2.06.94-2.06 2.06-.94-2.06-.94-.94-2.06-.94 2.06-2.06.94z\"/><path d=\"M17.41 7.96l-1.37-1.37c-.4-.4-.92-.59-1.43-.59-.52 0-1.04.2-1.43.59L10.3 9.45l-7.72 7.72c-.78.78-.78 2.05 0 2.83L4 21.41c.39.39.9.59 1.41.59.51 0 1.02-.2 1.41-.59l7.78-7.78 2.81-2.81c.8-.78.8-2.07 0-2.86zM5.41 20L4 18.59l7.72-7.72 1.47 1.35L5.41 20z\"/>\n",
              "  </svg>\n",
              "      </button>\n",
              "      \n",
              "  <style>\n",
              "    .colab-df-container {\n",
              "      display:flex;\n",
              "      flex-wrap:wrap;\n",
              "      gap: 12px;\n",
              "    }\n",
              "\n",
              "    .colab-df-convert {\n",
              "      background-color: #E8F0FE;\n",
              "      border: none;\n",
              "      border-radius: 50%;\n",
              "      cursor: pointer;\n",
              "      display: none;\n",
              "      fill: #1967D2;\n",
              "      height: 32px;\n",
              "      padding: 0 0 0 0;\n",
              "      width: 32px;\n",
              "    }\n",
              "\n",
              "    .colab-df-convert:hover {\n",
              "      background-color: #E2EBFA;\n",
              "      box-shadow: 0px 1px 2px rgba(60, 64, 67, 0.3), 0px 1px 3px 1px rgba(60, 64, 67, 0.15);\n",
              "      fill: #174EA6;\n",
              "    }\n",
              "\n",
              "    [theme=dark] .colab-df-convert {\n",
              "      background-color: #3B4455;\n",
              "      fill: #D2E3FC;\n",
              "    }\n",
              "\n",
              "    [theme=dark] .colab-df-convert:hover {\n",
              "      background-color: #434B5C;\n",
              "      box-shadow: 0px 1px 3px 1px rgba(0, 0, 0, 0.15);\n",
              "      filter: drop-shadow(0px 1px 2px rgba(0, 0, 0, 0.3));\n",
              "      fill: #FFFFFF;\n",
              "    }\n",
              "  </style>\n",
              "\n",
              "      <script>\n",
              "        const buttonEl =\n",
              "          document.querySelector('#df-f8cbf171-030c-46e7-b359-fb94c0b6cec5 button.colab-df-convert');\n",
              "        buttonEl.style.display =\n",
              "          google.colab.kernel.accessAllowed ? 'block' : 'none';\n",
              "\n",
              "        async function convertToInteractive(key) {\n",
              "          const element = document.querySelector('#df-f8cbf171-030c-46e7-b359-fb94c0b6cec5');\n",
              "          const dataTable =\n",
              "            await google.colab.kernel.invokeFunction('convertToInteractive',\n",
              "                                                     [key], {});\n",
              "          if (!dataTable) return;\n",
              "\n",
              "          const docLinkHtml = 'Like what you see? Visit the ' +\n",
              "            '<a target=\"_blank\" href=https://colab.research.google.com/notebooks/data_table.ipynb>data table notebook</a>'\n",
              "            + ' to learn more about interactive tables.';\n",
              "          element.innerHTML = '';\n",
              "          dataTable['output_type'] = 'display_data';\n",
              "          await google.colab.output.renderOutput(dataTable, element);\n",
              "          const docLink = document.createElement('div');\n",
              "          docLink.innerHTML = docLinkHtml;\n",
              "          element.appendChild(docLink);\n",
              "        }\n",
              "      </script>\n",
              "    </div>\n",
              "  </div>\n",
              "  "
            ]
          },
          "metadata": {},
          "execution_count": 5
        }
      ]
    },
    {
      "cell_type": "code",
      "source": [
        "# map POOR, AVG and GOOD to numerical values 0,1,2 for machine to understand. This is called numerical encoding of data.\n",
        "d = {'POOR': 0, 'AVG': 1, 'GOOD':2} \n",
        "df['TARGET'] = df['TARGET'].map(d)\n",
        "df.head()"
      ],
      "metadata": {
        "colab": {
          "base_uri": "https://localhost:8080/",
          "height": 404
        },
        "id": "y6SefWltkIPw",
        "outputId": "70d1b94e-165a-4952-ed76-4be5ad1baed4"
      },
      "execution_count": null,
      "outputs": [
        {
          "output_type": "execute_result",
          "data": {
            "text/plain": [
              "  STUDENT ID  Age  Gender  High school Type  Scholarship  Additional work  \\\n",
              "0   STUDENT1    2       2                 3            3                1   \n",
              "1   STUDENT2    2       2                 3            3                1   \n",
              "2   STUDENT3    2       2                 2            3                2   \n",
              "3   STUDENT4    1       1                 1            3                1   \n",
              "4   STUDENT5    2       2                 1            3                2   \n",
              "\n",
              "   Regular artistic or sports activity  Have Partner  Salary  \\\n",
              "0                                    2             2       1   \n",
              "1                                    2             2       1   \n",
              "2                                    2             2       2   \n",
              "3                                    2             1       2   \n",
              "4                                    2             1       3   \n",
              "\n",
              "   Transportation to the university  ...  \\\n",
              "0                                 1  ...   \n",
              "1                                 1  ...   \n",
              "2                                 4  ...   \n",
              "3                                 1  ...   \n",
              "4                                 1  ...   \n",
              "\n",
              "   Preparation to midterm exams regularly, near exam date or never  \\\n",
              "0                                                  1                 \n",
              "1                                                  1                 \n",
              "2                                                  1                 \n",
              "3                                                  2                 \n",
              "4                                                  1                 \n",
              "\n",
              "   Taking notes in classes  Listening in classes  \\\n",
              "0                        3                     2   \n",
              "1                        3                     2   \n",
              "2                        2                     2   \n",
              "3                        3                     2   \n",
              "4                        2                     2   \n",
              "\n",
              "   Discussion improves interest and success in the course  Flip classroom  \\\n",
              "0                                                  1                    2   \n",
              "1                                                  3                    2   \n",
              "2                                                  1                    1   \n",
              "3                                                  2                    1   \n",
              "4                                                  2                    1   \n",
              "\n",
              "   CGPA in last semester  Expected CGPA in graduation  COURSE ID  GRADE  \\\n",
              "0                      1                            1          1      1   \n",
              "1                      2                            3          1      1   \n",
              "2                      2                            2          1      1   \n",
              "3                      3                            2          1      1   \n",
              "4                      2                            2          1      1   \n",
              "\n",
              "   TARGET  \n",
              "0       0  \n",
              "1       0  \n",
              "2       0  \n",
              "3       0  \n",
              "4       0  \n",
              "\n",
              "[5 rows x 34 columns]"
            ],
            "text/html": [
              "\n",
              "  <div id=\"df-1a4117e4-ea8c-472a-aab7-642f19e0e530\">\n",
              "    <div class=\"colab-df-container\">\n",
              "      <div>\n",
              "<style scoped>\n",
              "    .dataframe tbody tr th:only-of-type {\n",
              "        vertical-align: middle;\n",
              "    }\n",
              "\n",
              "    .dataframe tbody tr th {\n",
              "        vertical-align: top;\n",
              "    }\n",
              "\n",
              "    .dataframe thead th {\n",
              "        text-align: right;\n",
              "    }\n",
              "</style>\n",
              "<table border=\"1\" class=\"dataframe\">\n",
              "  <thead>\n",
              "    <tr style=\"text-align: right;\">\n",
              "      <th></th>\n",
              "      <th>STUDENT ID</th>\n",
              "      <th>Age</th>\n",
              "      <th>Gender</th>\n",
              "      <th>High school Type</th>\n",
              "      <th>Scholarship</th>\n",
              "      <th>Additional work</th>\n",
              "      <th>Regular artistic or sports activity</th>\n",
              "      <th>Have Partner</th>\n",
              "      <th>Salary</th>\n",
              "      <th>Transportation to the university</th>\n",
              "      <th>...</th>\n",
              "      <th>Preparation to midterm exams regularly, near exam date or never</th>\n",
              "      <th>Taking notes in classes</th>\n",
              "      <th>Listening in classes</th>\n",
              "      <th>Discussion improves interest and success in the course</th>\n",
              "      <th>Flip classroom</th>\n",
              "      <th>CGPA in last semester</th>\n",
              "      <th>Expected CGPA in graduation</th>\n",
              "      <th>COURSE ID</th>\n",
              "      <th>GRADE</th>\n",
              "      <th>TARGET</th>\n",
              "    </tr>\n",
              "  </thead>\n",
              "  <tbody>\n",
              "    <tr>\n",
              "      <th>0</th>\n",
              "      <td>STUDENT1</td>\n",
              "      <td>2</td>\n",
              "      <td>2</td>\n",
              "      <td>3</td>\n",
              "      <td>3</td>\n",
              "      <td>1</td>\n",
              "      <td>2</td>\n",
              "      <td>2</td>\n",
              "      <td>1</td>\n",
              "      <td>1</td>\n",
              "      <td>...</td>\n",
              "      <td>1</td>\n",
              "      <td>3</td>\n",
              "      <td>2</td>\n",
              "      <td>1</td>\n",
              "      <td>2</td>\n",
              "      <td>1</td>\n",
              "      <td>1</td>\n",
              "      <td>1</td>\n",
              "      <td>1</td>\n",
              "      <td>0</td>\n",
              "    </tr>\n",
              "    <tr>\n",
              "      <th>1</th>\n",
              "      <td>STUDENT2</td>\n",
              "      <td>2</td>\n",
              "      <td>2</td>\n",
              "      <td>3</td>\n",
              "      <td>3</td>\n",
              "      <td>1</td>\n",
              "      <td>2</td>\n",
              "      <td>2</td>\n",
              "      <td>1</td>\n",
              "      <td>1</td>\n",
              "      <td>...</td>\n",
              "      <td>1</td>\n",
              "      <td>3</td>\n",
              "      <td>2</td>\n",
              "      <td>3</td>\n",
              "      <td>2</td>\n",
              "      <td>2</td>\n",
              "      <td>3</td>\n",
              "      <td>1</td>\n",
              "      <td>1</td>\n",
              "      <td>0</td>\n",
              "    </tr>\n",
              "    <tr>\n",
              "      <th>2</th>\n",
              "      <td>STUDENT3</td>\n",
              "      <td>2</td>\n",
              "      <td>2</td>\n",
              "      <td>2</td>\n",
              "      <td>3</td>\n",
              "      <td>2</td>\n",
              "      <td>2</td>\n",
              "      <td>2</td>\n",
              "      <td>2</td>\n",
              "      <td>4</td>\n",
              "      <td>...</td>\n",
              "      <td>1</td>\n",
              "      <td>2</td>\n",
              "      <td>2</td>\n",
              "      <td>1</td>\n",
              "      <td>1</td>\n",
              "      <td>2</td>\n",
              "      <td>2</td>\n",
              "      <td>1</td>\n",
              "      <td>1</td>\n",
              "      <td>0</td>\n",
              "    </tr>\n",
              "    <tr>\n",
              "      <th>3</th>\n",
              "      <td>STUDENT4</td>\n",
              "      <td>1</td>\n",
              "      <td>1</td>\n",
              "      <td>1</td>\n",
              "      <td>3</td>\n",
              "      <td>1</td>\n",
              "      <td>2</td>\n",
              "      <td>1</td>\n",
              "      <td>2</td>\n",
              "      <td>1</td>\n",
              "      <td>...</td>\n",
              "      <td>2</td>\n",
              "      <td>3</td>\n",
              "      <td>2</td>\n",
              "      <td>2</td>\n",
              "      <td>1</td>\n",
              "      <td>3</td>\n",
              "      <td>2</td>\n",
              "      <td>1</td>\n",
              "      <td>1</td>\n",
              "      <td>0</td>\n",
              "    </tr>\n",
              "    <tr>\n",
              "      <th>4</th>\n",
              "      <td>STUDENT5</td>\n",
              "      <td>2</td>\n",
              "      <td>2</td>\n",
              "      <td>1</td>\n",
              "      <td>3</td>\n",
              "      <td>2</td>\n",
              "      <td>2</td>\n",
              "      <td>1</td>\n",
              "      <td>3</td>\n",
              "      <td>1</td>\n",
              "      <td>...</td>\n",
              "      <td>1</td>\n",
              "      <td>2</td>\n",
              "      <td>2</td>\n",
              "      <td>2</td>\n",
              "      <td>1</td>\n",
              "      <td>2</td>\n",
              "      <td>2</td>\n",
              "      <td>1</td>\n",
              "      <td>1</td>\n",
              "      <td>0</td>\n",
              "    </tr>\n",
              "  </tbody>\n",
              "</table>\n",
              "<p>5 rows × 34 columns</p>\n",
              "</div>\n",
              "      <button class=\"colab-df-convert\" onclick=\"convertToInteractive('df-1a4117e4-ea8c-472a-aab7-642f19e0e530')\"\n",
              "              title=\"Convert this dataframe to an interactive table.\"\n",
              "              style=\"display:none;\">\n",
              "        \n",
              "  <svg xmlns=\"http://www.w3.org/2000/svg\" height=\"24px\"viewBox=\"0 0 24 24\"\n",
              "       width=\"24px\">\n",
              "    <path d=\"M0 0h24v24H0V0z\" fill=\"none\"/>\n",
              "    <path d=\"M18.56 5.44l.94 2.06.94-2.06 2.06-.94-2.06-.94-.94-2.06-.94 2.06-2.06.94zm-11 1L8.5 8.5l.94-2.06 2.06-.94-2.06-.94L8.5 2.5l-.94 2.06-2.06.94zm10 10l.94 2.06.94-2.06 2.06-.94-2.06-.94-.94-2.06-.94 2.06-2.06.94z\"/><path d=\"M17.41 7.96l-1.37-1.37c-.4-.4-.92-.59-1.43-.59-.52 0-1.04.2-1.43.59L10.3 9.45l-7.72 7.72c-.78.78-.78 2.05 0 2.83L4 21.41c.39.39.9.59 1.41.59.51 0 1.02-.2 1.41-.59l7.78-7.78 2.81-2.81c.8-.78.8-2.07 0-2.86zM5.41 20L4 18.59l7.72-7.72 1.47 1.35L5.41 20z\"/>\n",
              "  </svg>\n",
              "      </button>\n",
              "      \n",
              "  <style>\n",
              "    .colab-df-container {\n",
              "      display:flex;\n",
              "      flex-wrap:wrap;\n",
              "      gap: 12px;\n",
              "    }\n",
              "\n",
              "    .colab-df-convert {\n",
              "      background-color: #E8F0FE;\n",
              "      border: none;\n",
              "      border-radius: 50%;\n",
              "      cursor: pointer;\n",
              "      display: none;\n",
              "      fill: #1967D2;\n",
              "      height: 32px;\n",
              "      padding: 0 0 0 0;\n",
              "      width: 32px;\n",
              "    }\n",
              "\n",
              "    .colab-df-convert:hover {\n",
              "      background-color: #E2EBFA;\n",
              "      box-shadow: 0px 1px 2px rgba(60, 64, 67, 0.3), 0px 1px 3px 1px rgba(60, 64, 67, 0.15);\n",
              "      fill: #174EA6;\n",
              "    }\n",
              "\n",
              "    [theme=dark] .colab-df-convert {\n",
              "      background-color: #3B4455;\n",
              "      fill: #D2E3FC;\n",
              "    }\n",
              "\n",
              "    [theme=dark] .colab-df-convert:hover {\n",
              "      background-color: #434B5C;\n",
              "      box-shadow: 0px 1px 3px 1px rgba(0, 0, 0, 0.15);\n",
              "      filter: drop-shadow(0px 1px 2px rgba(0, 0, 0, 0.3));\n",
              "      fill: #FFFFFF;\n",
              "    }\n",
              "  </style>\n",
              "\n",
              "      <script>\n",
              "        const buttonEl =\n",
              "          document.querySelector('#df-1a4117e4-ea8c-472a-aab7-642f19e0e530 button.colab-df-convert');\n",
              "        buttonEl.style.display =\n",
              "          google.colab.kernel.accessAllowed ? 'block' : 'none';\n",
              "\n",
              "        async function convertToInteractive(key) {\n",
              "          const element = document.querySelector('#df-1a4117e4-ea8c-472a-aab7-642f19e0e530');\n",
              "          const dataTable =\n",
              "            await google.colab.kernel.invokeFunction('convertToInteractive',\n",
              "                                                     [key], {});\n",
              "          if (!dataTable) return;\n",
              "\n",
              "          const docLinkHtml = 'Like what you see? Visit the ' +\n",
              "            '<a target=\"_blank\" href=https://colab.research.google.com/notebooks/data_table.ipynb>data table notebook</a>'\n",
              "            + ' to learn more about interactive tables.';\n",
              "          element.innerHTML = '';\n",
              "          dataTable['output_type'] = 'display_data';\n",
              "          await google.colab.output.renderOutput(dataTable, element);\n",
              "          const docLink = document.createElement('div');\n",
              "          docLink.innerHTML = docLinkHtml;\n",
              "          element.appendChild(docLink);\n",
              "        }\n",
              "      </script>\n",
              "    </div>\n",
              "  </div>\n",
              "  "
            ]
          },
          "metadata": {},
          "execution_count": 6
        }
      ]
    },
    {
      "cell_type": "code",
      "source": [
        "##Target column is made with grade column only, so drop grade column. 'Student Id' has null impact on target so drop it also.\n",
        "\n",
        "df=df.drop(['STUDENT ID','GRADE'], axis=1) "
      ],
      "metadata": {
        "id": "7loczhle7w_2"
      },
      "execution_count": null,
      "outputs": []
    },
    {
      "cell_type": "code",
      "source": [
        "# convert datatype of all nominal categorical variables to 'str' type as there is no numerical significance attached to them.\n",
        "\n",
        "columns = list(df.columns)\n",
        "\n",
        "#change the first and last column names below as required\n",
        "start_column = columns.index('Age')\n",
        "end_column   = columns.index('Flip classroom')\n",
        "\n",
        "for index, col in enumerate(columns):\n",
        "    if (start_column <= index) & (index <= end_column):\n",
        "        df[col] = df[col].astype(str)\n"
      ],
      "metadata": {
        "id": "xXuv7D0sEXiG"
      },
      "execution_count": null,
      "outputs": []
    },
    {
      "cell_type": "code",
      "source": [
        "df=df.astype({\"COURSE ID\":str})  #course id is also nominal, so its datatype also."
      ],
      "metadata": {
        "id": "JcngD2Nw6uHw"
      },
      "execution_count": null,
      "outputs": []
    },
    {
      "cell_type": "code",
      "source": [
        "df.dtypes \n"
      ],
      "metadata": {
        "colab": {
          "base_uri": "https://localhost:8080/"
        },
        "id": "twNvbZpaHo8P",
        "outputId": "ee545a8d-28ca-4ed0-937e-b33c64d88592"
      },
      "execution_count": null,
      "outputs": [
        {
          "output_type": "execute_result",
          "data": {
            "text/plain": [
              "Age                                                                object\n",
              "Gender                                                             object\n",
              "High school Type                                                   object\n",
              "Scholarship                                                        object\n",
              "Additional work                                                    object\n",
              "Regular artistic or sports activity                                object\n",
              "Have Partner                                                       object\n",
              "Salary                                                             object\n",
              "Transportation to the university                                   object\n",
              "Accommodation type                                                 object\n",
              "Mothers education                                                  object\n",
              "Father education                                                   object\n",
              "No. of siblings                                                    object\n",
              "Parental status                                                    object\n",
              "Mother occupation                                                  object\n",
              "Father occupation                                                  object\n",
              "Weekly study hours                                                 object\n",
              "Reading Non-scientific books/journals                              object\n",
              "Reading Scientific books/journals                                  object\n",
              "Attendance to the seminars/conferences                             object\n",
              "Impact of projects/activities on success                           object\n",
              "Attendance to classes                                              object\n",
              "Preparation to midterm exams with friends/alone/NA                 object\n",
              "Preparation to midterm exams regularly, near exam date or never    object\n",
              "Taking notes in classes                                            object\n",
              "Listening in classes                                               object\n",
              "Discussion improves interest and success in the course             object\n",
              "Flip classroom                                                     object\n",
              "CGPA in last semester                                               int64\n",
              "Expected CGPA in graduation                                         int64\n",
              "COURSE ID                                                          object\n",
              "TARGET                                                              int64\n",
              "dtype: object"
            ]
          },
          "metadata": {},
          "execution_count": 10
        }
      ]
    },
    {
      "cell_type": "code",
      "source": [
        "# check distribution of target_class column\n",
        "\n",
        "dist= df['TARGET'].value_counts()\n",
        "dist"
      ],
      "metadata": {
        "id": "Gc7joWniGmRK",
        "colab": {
          "base_uri": "https://localhost:8080/"
        },
        "outputId": "9e1dd5a4-c0ed-4fad-8104-6ad48d6b20a6"
      },
      "execution_count": null,
      "outputs": [
        {
          "output_type": "execute_result",
          "data": {
            "text/plain": [
              "0    67\n",
              "1    48\n",
              "2    30\n",
              "Name: TARGET, dtype: int64"
            ]
          },
          "metadata": {},
          "execution_count": 11
        }
      ]
    },
    {
      "cell_type": "code",
      "source": [
        "#Visualise target class distribution among students.\n",
        "\n",
        "import matplotlib.pyplot as plt\n",
        "\n",
        "dist.plot(x='TARGET',\n",
        "        kind='bar',\n",
        "        stacked= False,\n",
        "        title='Distribution of TARGET class column',\n",
        "        xlabel= 'Target Class',\n",
        "        ylabel= 'No. of Students')"
      ],
      "metadata": {
        "colab": {
          "base_uri": "https://localhost:8080/",
          "height": 309
        },
        "id": "6mrfcNBxoehX",
        "outputId": "ec3a768a-878c-4bd9-d5ab-5d1250fce332"
      },
      "execution_count": null,
      "outputs": [
        {
          "output_type": "execute_result",
          "data": {
            "text/plain": [
              "<matplotlib.axes._subplots.AxesSubplot at 0x7ff46fe76af0>"
            ]
          },
          "metadata": {},
          "execution_count": 12
        },
        {
          "output_type": "display_data",
          "data": {
            "text/plain": [
              "<Figure size 432x288 with 1 Axes>"
            ],
            "image/png": "[encoded data removed]"
          },
          "metadata": {
            "needs_background": "light"
          }
        }
      ]
    },
    {
      "cell_type": "code",
      "source": [
        "# view the percentage distribution of target_class column. (class imbalance is there)\n",
        "\n",
        "pie=np.round(dist*100/(len(df)))\n",
        "pie"
      ],
      "metadata": {
        "colab": {
          "base_uri": "https://localhost:8080/"
        },
        "id": "c6FUSETOjUtz",
        "outputId": "3c2f08a4-e4fe-42c7-8158-c54fcf87c496"
      },
      "execution_count": null,
      "outputs": [
        {
          "output_type": "execute_result",
          "data": {
            "text/plain": [
              "0    46.0\n",
              "1    33.0\n",
              "2    21.0\n",
              "Name: TARGET, dtype: float64"
            ]
          },
          "metadata": {},
          "execution_count": 13
        }
      ]
    },
    {
      "cell_type": "code",
      "source": [
        "df['TARGET'].value_counts().plot(kind= \"pie\")\n"
      ],
      "metadata": {
        "colab": {
          "base_uri": "https://localhost:8080/",
          "height": 265
        },
        "id": "hvuK_k3bLKJw",
        "outputId": "444cd057-b3b5-4107-d518-ecff88d0197b"
      },
      "execution_count": null,
      "outputs": [
        {
          "output_type": "execute_result",
          "data": {
            "text/plain": [
              "<matplotlib.axes._subplots.AxesSubplot at 0x7ff46fdb72b0>"
            ]
          },
          "metadata": {},
          "execution_count": 14
        },
        {
          "output_type": "display_data",
          "data": {
            "text/plain": [
              "<Figure size 432x288 with 1 Axes>"
            ],
            "image/png": "[encoded data removed]"
          },
          "metadata": {}
        }
      ]
    },
    {
      "cell_type": "code",
      "source": [
        "#Let us see how our Target class is distributed - Gender-wise\n",
        "df.groupby('TARGET').Gender.value_counts()\n"
      ],
      "metadata": {
        "colab": {
          "base_uri": "https://localhost:8080/"
        },
        "id": "K9339c4Wj81C",
        "outputId": "50512611-b787-4b86-fb29-a22758fbb63a"
      },
      "execution_count": null,
      "outputs": [
        {
          "output_type": "execute_result",
          "data": {
            "text/plain": [
              "TARGET  Gender\n",
              "0       1         36\n",
              "        2         31\n",
              "1       2         30\n",
              "        1         18\n",
              "2       2         26\n",
              "        1          4\n",
              "Name: Gender, dtype: int64"
            ]
          },
          "metadata": {},
          "execution_count": 22
        }
      ]
    },
    {
      "cell_type": "code",
      "source": [
        "#We will visualise this information using a stacked bar chart(Female=1 , Male=2)\n",
        "\n",
        "pd.crosstab(df['TARGET'], df['Gender']).plot(kind='bar', stacked=False)\n"
      ],
      "metadata": {
        "colab": {
          "base_uri": "https://localhost:8080/",
          "height": 293
        },
        "id": "jFKzeHL5qZ9e",
        "outputId": "7c3990c9-e23d-4e04-c132-d3febf5ecee8"
      },
      "execution_count": null,
      "outputs": [
        {
          "output_type": "execute_result",
          "data": {
            "text/plain": [
              "<matplotlib.axes._subplots.AxesSubplot at 0x7fb7db0459a0>"
            ]
          },
          "metadata": {},
          "execution_count": 23
        },
        {
          "output_type": "display_data",
          "data": {
            "text/plain": [
              "<Figure size 432x288 with 1 Axes>"
            ],
            "image/png": "[encoded data removed]"
          },
          "metadata": {
            "needs_background": "light"
          }
        }
      ]
    },
    {
      "cell_type": "code",
      "source": [
        "#Visualise course ID wise performance of students. It creates an impact on target class.\n",
        "#maximum students are enrolled in course 1, and most of them gave poor or average result. No good results in this course ID.\n",
        "#course 8 shows poor performance of all the students who took up that course.\n",
        "#Course 3,6,7 students did well.\n",
        "\n",
        "pd.crosstab(df['COURSE ID'], df['TARGET']).plot(kind='bar', stacked=False)"
      ],
      "metadata": {
        "colab": {
          "base_uri": "https://localhost:8080/",
          "height": 293
        },
        "id": "876JmmEUJIKo",
        "outputId": "3b832b13-f42d-4fec-fd6f-837693dc6fd1"
      },
      "execution_count": null,
      "outputs": [
        {
          "output_type": "execute_result",
          "data": {
            "text/plain": [
              "<matplotlib.axes._subplots.AxesSubplot at 0x7fb7daa814f0>"
            ]
          },
          "metadata": {},
          "execution_count": 24
        },
        {
          "output_type": "display_data",
          "data": {
            "text/plain": [
              "<Figure size 432x288 with 1 Axes>"
            ],
            "image/png": "[encoded data removed]"
          },
          "metadata": {
            "needs_background": "light"
          }
        }
      ]
    },
    {
      "cell_type": "code",
      "source": [
        "#Let's visualise student's expected performance vs the actual performance\n",
        "#Expected CGPA in the graduation (/4.00): (1: <2.00, 2: 2.00-2.49, 3: 2.50-2.99, 4: 3.00-3.49, 5: above 3.49)\n",
        "#If suppose we classify expected CGPA in terms of target or actual performance like this:\n",
        "# 0 (Poor) - 1: less than 2.00 cgpa\n",
        "# 1 (Avg)- 2: 2.00-2.49, 3: 2.50-2.99\n",
        "# 2 (Good)- 4: 3.00-3.49, 5: above 3.49\n",
        "\n",
        "#See that the actual performance is somewhat related to the expected performance but we cant predict it just by visualising on a graph.\n",
        "\n",
        "pd.crosstab(df['TARGET'], df['Expected CGPA in graduation']).plot(kind='bar', stacked=True)"
      ],
      "metadata": {
        "id": "EFTprLWAxiGX",
        "colab": {
          "base_uri": "https://localhost:8080/",
          "height": 296
        },
        "outputId": "d38704c4-ba79-473e-d524-7bce92cd32a1"
      },
      "execution_count": null,
      "outputs": [
        {
          "output_type": "execute_result",
          "data": {
            "text/plain": [
              "<matplotlib.axes._subplots.AxesSubplot at 0x7fb7da9b5430>"
            ]
          },
          "metadata": {},
          "execution_count": 25
        },
        {
          "output_type": "display_data",
          "data": {
            "text/plain": [
              "<Figure size 432x288 with 1 Axes>"
            ],
            "image/png": "[encoded data removed]"
          },
          "metadata": {
            "needs_background": "light"
          }
        }
      ]
    },
    {
      "cell_type": "code",
      "source": [
        "#check the correlation among variables\n",
        "\n",
        "corr = df.corr()\n",
        "corr.style.background_gradient(cmap='coolwarm')"
      ],
      "metadata": {
        "colab": {
          "base_uri": "https://localhost:8080/",
          "height": 143
        },
        "id": "I6lsy3VwbAiT",
        "outputId": "70690fc3-df30-45fb-8216-ea91d6b6a767"
      },
      "execution_count": null,
      "outputs": [
        {
          "output_type": "execute_result",
          "data": {
            "text/plain": [
              "<pandas.io.formats.style.Styler at 0x7fb7daa868b0>"
            ],
            "text/html": [
              "<style type=\"text/css\">\n",
              "#T_5d14f_row0_col0, #T_5d14f_row1_col1, #T_5d14f_row2_col2 {\n",
              "  background-color: #b40426;\n",
              "  color: #f1f1f1;\n",
              "}\n",
              "#T_5d14f_row0_col1 {\n",
              "  background-color: #e9d5cb;\n",
              "  color: #000000;\n",
              "}\n",
              "#T_5d14f_row0_col2 {\n",
              "  background-color: #5470de;\n",
              "  color: #f1f1f1;\n",
              "}\n",
              "#T_5d14f_row1_col0 {\n",
              "  background-color: #dedcdb;\n",
              "  color: #000000;\n",
              "}\n",
              "#T_5d14f_row1_col2, #T_5d14f_row2_col0, #T_5d14f_row2_col1 {\n",
              "  background-color: #3b4cc0;\n",
              "  color: #f1f1f1;\n",
              "}\n",
              "</style>\n",
              "<table id=\"T_5d14f_\" class=\"dataframe\">\n",
              "  <thead>\n",
              "    <tr>\n",
              "      <th class=\"blank level0\" >&nbsp;</th>\n",
              "      <th class=\"col_heading level0 col0\" >CGPA in last semester</th>\n",
              "      <th class=\"col_heading level0 col1\" >Expected CGPA in graduation</th>\n",
              "      <th class=\"col_heading level0 col2\" >TARGET</th>\n",
              "    </tr>\n",
              "  </thead>\n",
              "  <tbody>\n",
              "    <tr>\n",
              "      <th id=\"T_5d14f_level0_row0\" class=\"row_heading level0 row0\" >CGPA in last semester</th>\n",
              "      <td id=\"T_5d14f_row0_col0\" class=\"data row0 col0\" >1.000000</td>\n",
              "      <td id=\"T_5d14f_row0_col1\" class=\"data row0 col1\" >0.657853</td>\n",
              "      <td id=\"T_5d14f_row0_col2\" class=\"data row0 col2\" >0.305233</td>\n",
              "    </tr>\n",
              "    <tr>\n",
              "      <th id=\"T_5d14f_level0_row1\" class=\"row_heading level0 row1\" >Expected CGPA in graduation</th>\n",
              "      <td id=\"T_5d14f_row1_col0\" class=\"data row1 col0\" >0.657853</td>\n",
              "      <td id=\"T_5d14f_row1_col1\" class=\"data row1 col1\" >1.000000</td>\n",
              "      <td id=\"T_5d14f_row1_col2\" class=\"data row1 col2\" >0.240908</td>\n",
              "    </tr>\n",
              "    <tr>\n",
              "      <th id=\"T_5d14f_level0_row2\" class=\"row_heading level0 row2\" >TARGET</th>\n",
              "      <td id=\"T_5d14f_row2_col0\" class=\"data row2 col0\" >0.305233</td>\n",
              "      <td id=\"T_5d14f_row2_col1\" class=\"data row2 col1\" >0.240908</td>\n",
              "      <td id=\"T_5d14f_row2_col2\" class=\"data row2 col2\" >1.000000</td>\n",
              "    </tr>\n",
              "  </tbody>\n",
              "</table>\n"
            ]
          },
          "metadata": {},
          "execution_count": 26
        }
      ]
    },
    {
      "cell_type": "markdown",
      "source": [
        "There is a strong correlation between attributes 'CGPA in last semester' and 'Expected CGPA in Graduation'. So we'll drop one of them to describe our features"
      ],
      "metadata": {
        "id": "RK9biqOVbu2M"
      }
    },
    {
      "cell_type": "code",
      "source": [
        "# Remove the 'Target' and 'CGPA in last semester' columns to describe our features. \n",
        "X = df.drop(['TARGET', 'CGPA in last semester'], axis=1)\n",
        "\n",
        "# Labels\n",
        "y = df['TARGET']\n"
      ],
      "metadata": {
        "id": "nIL4lcs0ftpj"
      },
      "execution_count": null,
      "outputs": []
    },
    {
      "cell_type": "markdown",
      "source": [
        "We will now split our data into train and test set and apply Decison Tree model and Random Forest model for predicting student's performance-0(Poor),1(Avg)or 2(Good)"
      ],
      "metadata": {
        "id": "RPiUOs_Rio_E"
      }
    },
    {
      "cell_type": "code",
      "source": [
        "#Split the dataset into train and test data.\n",
        "\n",
        "from sklearn.model_selection import train_test_split\n",
        "\n",
        "X_train, X_test, y_train, y_test = train_test_split(X, y, test_size=0.10,random_state=0)\n"
      ],
      "metadata": {
        "id": "Ukcv_7gJ8OvG"
      },
      "execution_count": null,
      "outputs": []
    },
    {
      "cell_type": "code",
      "source": [
        "#Apply Decision tree model for prediction.\n",
        "\n",
        "from sklearn.tree import DecisionTreeClassifier\n",
        "import sklearn.metrics\n",
        "\n",
        "clf = tree.DecisionTreeClassifier(random_state=0)\n",
        "\n",
        "clf = clf.fit(X_train,y_train)\n",
        "\n",
        "# Prediction step\n",
        "pred_train= clf.predict(X_train)\n",
        "pred_test = clf.predict(X_test)\n",
        "\n",
        "# Train-Test accuracy and Test precision\n",
        "acc_train= sklearn.metrics.accuracy_score(pred_train,y_train)\n",
        "acc_test = sklearn.metrics.accuracy_score(pred_test,y_test)\n",
        "f1score= sklearn.metrics.f1_score(pred_test, y_test, pos_label=1, average='macro')\n",
        "\n",
        "print(f'Accuracy score of train data is: {acc_train*100: .2f}%')\n",
        "print(f'Accuracy score of test data is: {acc_test*100: .2f}%')\n",
        "print(f'F1 score of test data is: {f1score*100: .2f}%')"
      ],
      "metadata": {
        "colab": {
          "base_uri": "https://localhost:8080/"
        },
        "id": "poTDRiyumOU2",
        "outputId": "999f98c9-fd0b-4250-91a3-07dfda653118"
      },
      "execution_count": null,
      "outputs": [
        {
          "output_type": "stream",
          "name": "stdout",
          "text": [
            "Accuracy score of train data is:  100.00%\n",
            "Accuracy score of test data is:  53.33%\n",
            "F1 score of test data is:  56.65%\n"
          ]
        }
      ]
    },
    {
      "cell_type": "markdown",
      "source": [
        "We got 100% accuracy for train data but for test data it is not generalising, which clearly means that our model is overfitted. We will avoid it using pre-pruning technique."
      ],
      "metadata": {
        "id": "Jd5cQP-XPeZ1"
      }
    },
    {
      "cell_type": "code",
      "source": [
        "#look at the decision tree we made. It has so many branches and leaves. We will try to reduce it using pre-pruning technique.\n",
        "\n",
        "plt.figure(dpi=400)\n",
        "tree.plot_tree(clf)\n",
        "plt.show()"
      ],
      "metadata": {
        "colab": {
          "base_uri": "https://localhost:8080/",
          "height": 843
        },
        "id": "53LOMeOUPTVN",
        "outputId": "969bbf90-7a36-4501-e60a-7d255884ffc6"
      },
      "execution_count": null,
      "outputs": [
        {
          "output_type": "display_data",
          "data": {
            "text/plain": [
              "<Figure size 2400x1600 with 1 Axes>"
            ],
            "image/png": "[encoded data removed]"
          },
          "metadata": {
            "needs_background": "light"
          }
        }
      ]
    },
    {
      "cell_type": "code",
      "source": [
        "#Pre-pruning in decision tree by setting hyperparameters.\n",
        "\n",
        "clf = tree.DecisionTreeClassifier(random_state=0, max_depth=7, min_samples_split=2, min_samples_leaf= 2)\n",
        "clf = clf.fit(X_train,y_train)\n",
        "\n",
        "# Prediction step\n",
        "pred_train= clf.predict(X_train)\n",
        "pred_test = clf.predict(X_test)\n",
        "\n",
        "# Train-Test accuracy and Test precision\n",
        "acc_train= sklearn.metrics.accuracy_score(pred_train,y_train)\n",
        "acc_test = sklearn.metrics.accuracy_score(pred_test,y_test)\n",
        "f1score= sklearn.metrics.f1_score(pred_test, y_test, pos_label=1, average='macro')\n",
        "\n",
        "print(f'Accuracy score of train data is: {acc_train*100: .2f}%')\n",
        "print(f'Accuracy score of test data is: {acc_test*100: .2f}%')\n",
        "print(f'F1 score of test data is: {f1score*100: .2f}%')"
      ],
      "metadata": {
        "colab": {
          "base_uri": "https://localhost:8080/"
        },
        "id": "kL_gA66IMHFn",
        "outputId": "c85c3ab1-705d-40f4-9440-895163ca6ac7"
      },
      "execution_count": null,
      "outputs": [
        {
          "output_type": "stream",
          "name": "stdout",
          "text": [
            "Accuracy score of train data is:  95.38%\n",
            "Accuracy score of test data is:  60.00%\n",
            "F1 score of test data is:  61.11%\n"
          ]
        }
      ]
    },
    {
      "cell_type": "markdown",
      "source": [
        "We can see that after pruning we got better accuracy with controlled overfitting of data."
      ],
      "metadata": {
        "id": "YEajCDf3LFxk"
      }
    },
    {
      "cell_type": "markdown",
      "source": [
        "We can also avoid overfitting of model by using Random Forests technique which is an ensemble of a number of Decision Trees which works on majority voting."
      ],
      "metadata": {
        "id": "kFhTJ6E5Sves"
      }
    },
    {
      "cell_type": "code",
      "source": [
        "#Try to train data with Random Forest classifier. \n",
        "\n",
        "from sklearn.ensemble import RandomForestClassifier\n",
        "\n",
        "clf = RandomForestClassifier(n_estimators = 30, max_depth=3,random_state=0)\n",
        "clf.fit(X_train,y_train)\n",
        "pred_train = clf.predict(X_train)\n",
        "pred_test = clf.predict(X_test)\n",
        "\n",
        "acc_train = sklearn.metrics.accuracy_score(pred_train,y_train)\n",
        "print(f'Accuracy score of train data is: {acc_train*100: .2f}%')\n",
        "\n",
        "acc_test = sklearn.metrics.accuracy_score(pred_test,y_test)\n",
        "print(f'Accuracy score of test data is: {acc_test*100: .2f}%')\n",
        "\n",
        "f1score= sklearn.metrics.f1_score(pred_test, y_test, pos_label=1, average='macro')\n",
        "print(f'F1 score of test data is: {f1score*100: .2f}%')\n"
      ],
      "metadata": {
        "id": "Z-UYi1fWCk9I",
        "colab": {
          "base_uri": "https://localhost:8080/"
        },
        "outputId": "a1b89245-2f2d-46e3-95a8-c701003112e1"
      },
      "execution_count": null,
      "outputs": [
        {
          "output_type": "stream",
          "name": "stdout",
          "text": [
            "Accuracy score of train data is:  76.15%\n",
            "Accuracy score of test data is:  73.33%\n",
            "F1 score of test data is:  66.96%\n"
          ]
        }
      ]
    },
    {
      "cell_type": "markdown",
      "source": [
        "Let's train our model with Categorical Naive Bayes algorithm and see how it performs!"
      ],
      "metadata": {
        "id": "4t1X8rvG5m7u"
      }
    },
    {
      "cell_type": "code",
      "source": [
        "from sklearn.naive_bayes import CategoricalNB\n",
        "\n",
        "clf = CategoricalNB()\n",
        "clf.fit(X_train,y_train)\n",
        "pred_train = clf.predict(X_train)\n",
        "pred_test = clf.predict(X_test)\n",
        "\n",
        "acc_train = sklearn.metrics.accuracy_score(pred_train,y_train)\n",
        "print(f'Accuracy score of train data is: {acc_train*100: .2f}%')\n",
        "\n",
        "acc_test = sklearn.metrics.accuracy_score(pred_test,y_test)\n",
        "print(f'Accuracy score of test data is: {acc_test*100: .2f}%')\n",
        "\n",
        "f1score= sklearn.metrics.f1_score(pred_test, y_test, pos_label=1, average='macro')\n",
        "print(f'F1 score of test data is: {f1score*100: .2f}%')\n"
      ],
      "metadata": {
        "colab": {
          "base_uri": "https://localhost:8080/"
        },
        "id": "CGSn6Pgu14mE",
        "outputId": "6b62282c-3027-4a55-8335-8a54cad3e83c"
      },
      "execution_count": null,
      "outputs": [
        {
          "output_type": "stream",
          "name": "stdout",
          "text": [
            "Accuracy score of train data is:  80.00%\n",
            "Accuracy score of test data is:  66.67%\n",
            "F1 score of test data is:  61.52%\n"
          ]
        }
      ]
    },
    {
      "cell_type": "markdown",
      "source": [
        "**Mutual Information Feature Selection Method**\n",
        "\n",
        "The scikit-learn machine learning library provides an implementation of mutual information for feature selection via the mutual_info_classif() function to select the K best parameters. We will use this for feature selection."
      ],
      "metadata": {
        "id": "j1jTP2D4tQNQ"
      }
    },
    {
      "cell_type": "code",
      "source": [
        "from sklearn.feature_selection import SelectKBest\n",
        "from sklearn.feature_selection import mutual_info_classif\n",
        "\n",
        "mi = SelectKBest(score_func=mutual_info_classif, k='all')\n",
        "mi.fit(X_train, y_train)\n",
        "X_train_mi = mi.transform(X_train)\n",
        "X_test_mi = mi.transform(X_test)"
      ],
      "metadata": {
        "id": "PlywxtPMWguv"
      },
      "execution_count": null,
      "outputs": []
    },
    {
      "cell_type": "code",
      "source": [
        "# let's see the scores of features derived from mutual information method \n",
        "\n",
        "for values in range(len(mi.scores_)):\n",
        " print('Attribure %d : %f' % (values, mi.scores_[values]) )\n",
        "\n",
        "# we'll visualise the scores on a bar plot as well \n",
        "plt.bar([values for values in range(len(mi.scores_))], mi.scores_)\n",
        "plt.show()\n"
      ],
      "metadata": {
        "colab": {
          "base_uri": "https://localhost:8080/",
          "height": 786
        },
        "id": "iW_PCxqcX2Da",
        "outputId": "5f22f670-1797-41c9-c680-a4d9614fa020"
      },
      "execution_count": null,
      "outputs": [
        {
          "output_type": "stream",
          "name": "stdout",
          "text": [
            "Attribure 0 : 0.069550\n",
            "Attribure 1 : 0.055748\n",
            "Attribure 2 : 0.000000\n",
            "Attribure 3 : 0.010730\n",
            "Attribure 4 : 0.074381\n",
            "Attribure 5 : 0.037540\n",
            "Attribure 6 : 0.025445\n",
            "Attribure 7 : 0.000000\n",
            "Attribure 8 : 0.000000\n",
            "Attribure 9 : 0.000000\n",
            "Attribure 10 : 0.000000\n",
            "Attribure 11 : 0.000000\n",
            "Attribure 12 : 0.017164\n",
            "Attribure 13 : 0.000000\n",
            "Attribure 14 : 0.000000\n",
            "Attribure 15 : 0.000000\n",
            "Attribure 16 : 0.025999\n",
            "Attribure 17 : 0.044783\n",
            "Attribure 18 : 0.018511\n",
            "Attribure 19 : 0.032847\n",
            "Attribure 20 : 0.024421\n",
            "Attribure 21 : 0.000000\n",
            "Attribure 22 : 0.000000\n",
            "Attribure 23 : 0.000000\n",
            "Attribure 24 : 0.029564\n",
            "Attribure 25 : 0.000000\n",
            "Attribure 26 : 0.082185\n",
            "Attribure 27 : 0.000000\n",
            "Attribure 28 : 0.000000\n",
            "Attribure 29 : 0.455133\n"
          ]
        },
        {
          "output_type": "display_data",
          "data": {
            "text/plain": [
              "<Figure size 432x288 with 1 Axes>"
            ],
            "image/png": "[encoded data removed]"
          },
          "metadata": {
            "needs_background": "light"
          }
        }
      ]
    },
    {
      "cell_type": "markdown",
      "source": [
        "Now apply Decision Tree to 6 best features provided by mutual information feature selection."
      ],
      "metadata": {
        "id": "ysSLkhNWuaXW"
      }
    },
    {
      "cell_type": "code",
      "source": [
        "mi = SelectKBest(score_func=mutual_info_classif, k=6)\n",
        "mi.fit(X_train, y_train)\n",
        "X_train_mi = mi.transform(X_train)\n",
        "X_test_mi = mi.transform(X_test)\n",
        "\n",
        "clf = tree.DecisionTreeClassifier(random_state=0)\n",
        "clf = clf.fit(X_train_mi,y_train)\n",
        "\n",
        "# Prediction step\n",
        "pred_train= clf.predict(X_train_mi)\n",
        "pred_test = clf.predict(X_test_mi)\n",
        "\n",
        "# Train-Test accuracy and Test precision\n",
        "acc_train= sklearn.metrics.accuracy_score(pred_train,y_train)\n",
        "acc_test = sklearn.metrics.accuracy_score(pred_test,y_test)\n",
        "f1score= sklearn.metrics.f1_score(pred_test, y_test, pos_label=1, average='macro')\n",
        "\n",
        "print(f'Accuracy score of train data is: {acc_train*100: .2f}%')\n",
        "print(f'Accuracy score of test data is: {acc_test*100: .2f}%')\n",
        "print(f'F1score of test data is: {f1score*100: .2f}%')"
      ],
      "metadata": {
        "colab": {
          "base_uri": "https://localhost:8080/"
        },
        "id": "ykgshR5esxjh",
        "outputId": "150a7559-c774-451c-fb63-f66a7754076e"
      },
      "execution_count": null,
      "outputs": [
        {
          "output_type": "stream",
          "name": "stdout",
          "text": [
            "Accuracy score of train data is:  89.23%\n",
            "Accuracy score of test data is:  66.67%\n",
            "F1score of test data is:  62.96%\n"
          ]
        }
      ]
    },
    {
      "cell_type": "markdown",
      "source": [
        "Performance of Random Forest on selected features."
      ],
      "metadata": {
        "id": "FzpUiXHjwxTj"
      }
    },
    {
      "cell_type": "code",
      "source": [
        "clf = RandomForestClassifier(n_estimators = 30, max_depth=5,random_state=0)\n",
        "clf.fit(X_train_mi,y_train)\n",
        "pred_train = clf.predict(X_train_mi)\n",
        "pred_test = clf.predict(X_test_mi)\n",
        "\n",
        "acc_train = sklearn.metrics.accuracy_score(pred_train,y_train)\n",
        "print(f'Accuracy score of train data is: {acc_train*100: .2f}%')\n",
        "\n",
        "acc_test = sklearn.metrics.accuracy_score(pred_test,y_test)\n",
        "print(f'Accuracy score of test data is: {acc_test*100: .2f}%')\n",
        "\n",
        "f1score= sklearn.metrics.f1_score(pred_test, y_test, pos_label=1, average='macro')\n",
        "print(f'F1score of test data: {f1score*100: .2f}%')"
      ],
      "metadata": {
        "colab": {
          "base_uri": "https://localhost:8080/"
        },
        "id": "DhkNEU-hwhP0",
        "outputId": "1ca0b486-fd8f-40e9-be70-0076d3bdca14"
      },
      "execution_count": null,
      "outputs": [
        {
          "output_type": "stream",
          "name": "stdout",
          "text": [
            "Accuracy score of train data is:  81.54%\n",
            "Accuracy score of test data is:  53.33%\n",
            "F1score of test data:  51.85%\n"
          ]
        }
      ]
    },
    {
      "cell_type": "markdown",
      "source": [
        "Performance of CNB."
      ],
      "metadata": {
        "id": "rOlWo2oN5y6E"
      }
    },
    {
      "cell_type": "code",
      "source": [
        "clf = CategoricalNB()\n",
        "clf.fit(X_train_mi,y_train)\n",
        "pred_train = clf.predict(X_train_mi)\n",
        "pred_test = clf.predict(X_test_mi)\n",
        "\n",
        "acc_train = sklearn.metrics.accuracy_score(pred_train,y_train)\n",
        "print(f'Accuracy score of train data is: {acc_train*100: .2f}%')\n",
        "\n",
        "acc_test = sklearn.metrics.accuracy_score(pred_test,y_test)\n",
        "print(f'Accuracy score of test data is: {acc_test*100: .2f}%')\n",
        "\n",
        "f1score= sklearn.metrics.f1_score(pred_test, y_test, pos_label=1, average='macro')\n",
        "print(f'F1score of test data: {f1score*100: .2f}%')\n"
      ],
      "metadata": {
        "colab": {
          "base_uri": "https://localhost:8080/"
        },
        "id": "2Tee_Y-j3AVZ",
        "outputId": "b528c4ec-cd44-488d-8394-cde99aa591f3"
      },
      "execution_count": null,
      "outputs": [
        {
          "output_type": "stream",
          "name": "stdout",
          "text": [
            "Accuracy score of train data is:  76.92%\n",
            "Accuracy score of test data is:  46.67%\n",
            "F1score of test data:  48.50%\n"
          ]
        }
      ]
    },
    {
      "cell_type": "markdown",
      "source": [
        "Our accuracy increased with the mutual information gain feature selection method."
      ],
      "metadata": {
        "id": "DMXiSU79mklx"
      }
    },
    {
      "cell_type": "markdown",
      "source": [
        "**Chi-Squared Feature Selection Method**\n",
        "\n",
        "Scikit-Learn library provides a feature selection method called chi-squared which helps us selecting k best features. We will choose k best features from chi-squared and try to implement on our model."
      ],
      "metadata": {
        "id": "4soeTM0tpBBu"
      }
    },
    {
      "cell_type": "code",
      "source": [
        "from sklearn.feature_selection import chi2\n",
        "\n",
        "chi = SelectKBest(score_func=chi2, k='all')\n",
        "chi.fit(X_train, y_train)"
      ],
      "metadata": {
        "colab": {
          "base_uri": "https://localhost:8080/"
        },
        "id": "uK4lXkAxoH9D",
        "outputId": "3e909367-46b3-444d-c7a4-52e62b365edf"
      },
      "execution_count": null,
      "outputs": [
        {
          "output_type": "execute_result",
          "data": {
            "text/plain": [
              "SelectKBest(k='all', score_func=<function chi2 at 0x7ff46dc52310>)"
            ]
          },
          "metadata": {},
          "execution_count": 28
        }
      ]
    },
    {
      "cell_type": "code",
      "source": [
        "# let's see the scores for the features by chi-square method\n",
        "\n",
        "for values in range(len(chi.scores_)):\n",
        " print('Attribute %d: %f' % (values, chi.scores_[values]))\n",
        "\n",
        "# visualise the scores on bar plot\n",
        "plt.bar([values for values in range(len(chi.scores_))], chi.scores_)\n",
        "plt.show()"
      ],
      "metadata": {
        "colab": {
          "base_uri": "https://localhost:8080/",
          "height": 786
        },
        "id": "62Jx3WBUoPyc",
        "outputId": "e31aed49-993c-480a-f463-d9455993d80b"
      },
      "execution_count": null,
      "outputs": [
        {
          "output_type": "stream",
          "name": "stdout",
          "text": [
            "Attribute 0: 1.376592\n",
            "Attribute 1: 2.001554\n",
            "Attribute 2: 0.097155\n",
            "Attribute 3: 0.033742\n",
            "Attribute 4: 0.377802\n",
            "Attribute 5: 0.092952\n",
            "Attribute 6: 0.412226\n",
            "Attribute 7: 1.783495\n",
            "Attribute 8: 4.021420\n",
            "Attribute 9: 0.443802\n",
            "Attribute 10: 4.536615\n",
            "Attribute 11: 0.352962\n",
            "Attribute 12: 2.485044\n",
            "Attribute 13: 0.335353\n",
            "Attribute 14: 0.116930\n",
            "Attribute 15: 0.036831\n",
            "Attribute 16: 0.086981\n",
            "Attribute 17: 1.648854\n",
            "Attribute 18: 0.033865\n",
            "Attribute 19: 0.925836\n",
            "Attribute 20: 1.854528\n",
            "Attribute 21: 0.890562\n",
            "Attribute 22: 0.268329\n",
            "Attribute 23: 0.095125\n",
            "Attribute 24: 0.358342\n",
            "Attribute 25: 0.533646\n",
            "Attribute 26: 0.925509\n",
            "Attribute 27: 0.949883\n",
            "Attribute 28: 2.952089\n",
            "Attribute 29: 18.589129\n"
          ]
        },
        {
          "output_type": "display_data",
          "data": {
            "text/plain": [
              "<Figure size 432x288 with 1 Axes>"
            ],
            "image/png": "[encoded data removed]"
          },
          "metadata": {
            "needs_background": "light"
          }
        }
      ]
    },
    {
      "cell_type": "code",
      "source": [
        "#apply Decision tree classifier to train 6 best features derived from chi-squared\n",
        "\n",
        "chi = SelectKBest(score_func=chi2, k=6)\n",
        "chi.fit(X_train, y_train)\n",
        "X_train_chi = chi.transform(X_train)\n",
        "X_test_chi = chi.transform(X_test)\n",
        "\n",
        "clf = tree.DecisionTreeClassifier(random_state=0)\n",
        "clf = clf.fit(X_train_chi,y_train)\n",
        "\n",
        "# Prediction step\n",
        "pred_train= clf.predict(X_train_chi)\n",
        "pred_test = clf.predict(X_test_chi)\n",
        "\n",
        "# Train-Test accuracy and Test precision\n",
        "acc_train= sklearn.metrics.accuracy_score(pred_train,y_train)\n",
        "acc_test = sklearn.metrics.accuracy_score(pred_test,y_test)\n",
        "f1score= sklearn.metrics.f1_score(pred_test, y_test, pos_label=1, average='macro')\n",
        "\n",
        "print(f'Accuracy score of train data is: {acc_train*100: .2f}%')\n",
        "print(f'Accuracy score of test data is: {acc_test*100: .2f}%')\n",
        "print(f'F1score of test data is: {f1score*100: .2f}%')"
      ],
      "metadata": {
        "colab": {
          "base_uri": "https://localhost:8080/"
        },
        "id": "yPGVRNIBofkv",
        "outputId": "7f0fb3cb-3ee5-4414-fd4f-5b3fcf3b454c"
      },
      "execution_count": null,
      "outputs": [
        {
          "output_type": "stream",
          "name": "stdout",
          "text": [
            "Accuracy score of train data is:  95.38%\n",
            "Accuracy score of test data is:  80.00%\n",
            "F1score of test data is:  80.45%\n"
          ]
        }
      ]
    },
    {
      "cell_type": "code",
      "source": [
        "#performance with Random forest algorithm.\n",
        "\n",
        "clf = RandomForestClassifier(n_estimators = 35, max_depth=5,random_state=0)\n",
        "clf.fit(X_train_chi,y_train)\n",
        "pred_train = clf.predict(X_train_chi)\n",
        "pred_test = clf.predict(X_test_chi)\n",
        "\n",
        "acc_train = sklearn.metrics.accuracy_score(pred_train,y_train)\n",
        "print(f'Accuracy score of train data is: {acc_train*100: .2f}%')\n",
        "\n",
        "acc_test = sklearn.metrics.accuracy_score(pred_test,y_test)\n",
        "print(f'Accuracy score of test data is: {acc_test*100: .2f}%')\n",
        "\n",
        "f1score= sklearn.metrics.f1_score(pred_test, y_test, pos_label=1, average='macro')\n",
        "print(f'F1score of test data: {f1score*100: .2f}%')"
      ],
      "metadata": {
        "colab": {
          "base_uri": "https://localhost:8080/"
        },
        "id": "68NAXW-GoxD7",
        "outputId": "7385e127-cbd6-4fa6-ae0b-91d64b6bbdde"
      },
      "execution_count": null,
      "outputs": [
        {
          "output_type": "stream",
          "name": "stdout",
          "text": [
            "Accuracy score of train data is:  86.15%\n",
            "Accuracy score of test data is:  80.00%\n",
            "F1score of test data:  75.24%\n"
          ]
        }
      ]
    },
    {
      "cell_type": "code",
      "source": [
        "#Performance with Categorical Naive Bayes\n",
        "\n",
        "clf = CategoricalNB()\n",
        "clf.fit(X_train_chi,y_train)\n",
        "pred_train = clf.predict(X_train_chi)\n",
        "pred_test = clf.predict(X_test_chi)\n",
        "\n",
        "acc_train = sklearn.metrics.accuracy_score(pred_train,y_train)\n",
        "print(f'Accuracy score of train data is: {acc_train*100: .2f}%')\n",
        "\n",
        "acc_test = sklearn.metrics.accuracy_score(pred_test,y_test)\n",
        "print(f'Accuracy score of test data is: {acc_test*100: .2f}%')\n",
        "\n",
        "f1score= sklearn.metrics.f1_score(pred_test, y_test, pos_label=1, average='macro')\n",
        "print(f'F1score of test data: {f1score*100: .2f}%')"
      ],
      "metadata": {
        "colab": {
          "base_uri": "https://localhost:8080/"
        },
        "id": "hv-bZb0V3QhD",
        "outputId": "991360a7-ae5f-451a-990b-efe3bc2c37ec"
      },
      "execution_count": null,
      "outputs": [
        {
          "output_type": "stream",
          "name": "stdout",
          "text": [
            "Accuracy score of train data is:  80.00%\n",
            "Accuracy score of test data is:  73.33%\n",
            "F1score of test data:  62.96%\n"
          ]
        }
      ]
    }
  ]
}